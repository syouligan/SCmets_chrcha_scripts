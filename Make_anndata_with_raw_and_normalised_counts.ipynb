{
 "cells": [
  {
   "cell_type": "markdown",
   "metadata": {},
   "source": [
    "## Make anndata object with raw and normalised expression values"
   ]
  },
  {
   "cell_type": "code",
   "execution_count": 1,
   "metadata": {},
   "outputs": [
    {
     "name": "stdout",
     "output_type": "stream",
     "text": [
      "Place:  local indir:  /Users/mac/cloudstor/sarah_projects/SCMDA231mets_chrcha/project_results/prefiltering/practice_all_data/ outdir:  /Users/mac/cloudstor/sarah_projects/SCMDA231mets_chrcha/project_results/meld/practice_all_data/\n"
     ]
    }
   ],
   "source": [
    "import os\n",
    "import sklearn\n",
    "import pickle\n",
    "import pandas as pd\n",
    "import numpy as np\n",
    "import graphtools as gt\n",
    "import scanpy as sc\n",
    "import anndata as ad\n",
    "import phate\n",
    "import magic\n",
    "import scprep\n",
    "from scipy.sparse import csr_matrix\n",
    "import meld\n",
    "import matplotlib.pyplot as plt\n",
    "import matplotlib as mpl\n",
    "import seaborn as sns\n",
    "import harmonypy as hm\n",
    "import diffxpy.api as de\n",
    "\n",
    "np.random.seed(42)\n",
    "font = {'size'   : 14}\n",
    "mpl.rc('font', **font)\n",
    "\n",
    "if os.path.isdir('/Users/mac/cloudstor/') == True:\n",
    "    place = 'local'\n",
    "    indir = '/Users/mac/cloudstor/sarah_projects/SCMDA231mets_chrcha/project_results/prefiltering/practice_all_data/'\n",
    "    outdir = '/Users/mac/cloudstor/sarah_projects/SCMDA231mets_chrcha/project_results/meld/practice_all_data/'\n",
    "    dataset = 'practice'\n",
    "else:\n",
    "    place = 'wolfpack'\n",
    "    indir = '/share/ScratchGeneral/scoyou/sarah_projects/SCMDA231mets_chrcha/project_results/prefiltering/all_data/'\n",
    "    outdir = '/share/ScratchGeneral/scoyou/sarah_projects/SCMDA231mets_chrcha/project_results/meld/all_data/'\n",
    "    dataset = 'all'\n",
    "\n",
    "print('Place: ', place,\n",
    "       'indir: ', indir,\n",
    "       'outdir: ', outdir)\n",
    "\n",
    "sc.settings.autosave = True\n",
    "sc.settings.figdir = outdir"
   ]
  },
  {
   "cell_type": "markdown",
   "metadata": {},
   "source": [
    "#### Load counts filtered for lowly expressed genes and low quality cells (2MAD each sample library size, gene counts, 2MAD whole experiment mito content)."
   ]
  },
  {
   "cell_type": "code",
   "execution_count": 2,
   "metadata": {},
   "outputs": [],
   "source": [
    "if os.path.isfile(os.path.join(indir, 'Prefiltered_experiment_' + str(dataset) + '_filtered_counts_AnnData.h5ad')) == True:\n",
    "    sdata = ad.read_h5ad(os.path.join(indir, 'Prefiltered_experiment_' + str(dataset) + '_filtered_counts_AnnData.h5ad'))\n",
    "else:\n",
    "    sdata = ad.read_mtx(os.path.join(indir, 'Prefiltered_experiment_' + str(dataset) + '_filtered_counts.mtx')).T\n",
    "    pd_obs = pd.read_csv(os.path.join(indir, 'Prefiltered_experiment_' + str(dataset) + '_colData.csv'), index_col=0, header=0)\n",
    "    cat_reps = pd_obs['Replicate'].astype(str)\n",
    "    pd_obs.loc[:, ('Replicate')] = cat_reps\n",
    "    pd_var = pd.read_csv(os.path.join(indir, 'Prefiltered_experiment_' + str(dataset) + '_rowData.csv'), index_col=0, header=0)\n",
    "    sdata.obs = pd_obs\n",
    "    sdata.var = pd_var\n",
    "    sdata.write(os.path.join(indir, 'Prefiltered_experiment_' + str(dataset) + '_filtered_counts_AnnData.h5ad'))"
   ]
  },
  {
   "cell_type": "markdown",
   "metadata": {},
   "source": [
    "#### Store raw UMI in anndata.raw layer "
   ]
  },
  {
   "cell_type": "code",
   "execution_count": 3,
   "metadata": {},
   "outputs": [],
   "source": [
    "sdata.raw = sdata"
   ]
  },
  {
   "cell_type": "markdown",
   "metadata": {},
   "source": [
    "#### Normalise counts and standardise library size"
   ]
  },
  {
   "cell_type": "code",
   "execution_count": 6,
   "metadata": {},
   "outputs": [
    {
     "name": "stderr",
     "output_type": "stream",
     "text": [
      "/Users/mac/.local/lib/python3.7/site-packages/scprep/utils.py:550: FutureWarning: The SparseDataFrame class is removed from pandas. Accessing it from the top-level namespace will also be removed in the next version\n",
      "  if isinstance(data, pd.SparseDataFrame):\n",
      "/Users/mac/.local/lib/python3.7/site-packages/scprep/utils.py:322: FutureWarning: The SparseDataFrame class is removed from pandas. Accessing it from the top-level namespace will also be removed in the next version\n",
      "  if is_sparse_dataframe(data) or isinstance(data, pd.SparseDataFrame):\n",
      "/Users/mac/.local/lib/python3.7/site-packages/scprep/normalize.py:129: FutureWarning: The SparseDataFrame class is removed from pandas. Accessing it from the top-level namespace will also be removed in the next version\n",
      "  or isinstance(data, pd.SparseDataFrame)\n"
     ]
    }
   ],
   "source": [
    "sc.pp.normalize_total(sdata, target_sum=1e4)\n",
    "sdata.X = scprep.transform.sqrt(sdata.X)\n",
    "#sc.pp.scale(sdata, max_value=10) # Scale if desired, clipping extreme values at 10 SD above the mean.\n",
    "sdata.X = csr_matrix(scprep.normalize.batch_mean_center(sdata.X.toarray(), sample_idx=sdata.obs['Replicate']))"
   ]
  },
  {
   "cell_type": "code",
   "execution_count": 7,
   "metadata": {},
   "outputs": [
    {
     "name": "stderr",
     "output_type": "stream",
     "text": [
      "/Users/mac/local/miniconda3/lib/python3.7/site-packages/anndata/_core/anndata.py:1192: FutureWarning: is_categorical is deprecated and will be removed in a future version.  Use is_categorical_dtype instead\n",
      "  if is_string_dtype(df[key]) and not is_categorical(df[key])\n"
     ]
    }
   ],
   "source": [
    "sdata.write(os.path.join(outdir, 'Prefiltered_experiment_' + str(dataset) + '_raw_and_normalised_counts_AnnData.h5ad'))"
   ]
  },
  {
   "cell_type": "code",
   "execution_count": null,
   "metadata": {},
   "outputs": [],
   "source": []
  }
 ],
 "metadata": {
  "kernelspec": {
   "display_name": "Python 3",
   "language": "python",
   "name": "python3"
  },
  "language_info": {
   "codemirror_mode": {
    "name": "ipython",
    "version": 3
   },
   "file_extension": ".py",
   "mimetype": "text/x-python",
   "name": "python",
   "nbconvert_exporter": "python",
   "pygments_lexer": "ipython3",
   "version": "3.7.1"
  }
 },
 "nbformat": 4,
 "nbformat_minor": 2
}
