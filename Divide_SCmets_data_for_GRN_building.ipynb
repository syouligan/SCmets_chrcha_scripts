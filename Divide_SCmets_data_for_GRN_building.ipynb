{
 "cells": [
  {
   "cell_type": "markdown",
   "metadata": {},
   "source": [
    "Make datasets containing 25% of cells"
   ]
  },
  {
   "cell_type": "code",
   "execution_count": 1,
   "metadata": {},
   "outputs": [
    {
     "name": "stderr",
     "output_type": "stream",
     "text": [
      "/Users/mac/local/miniconda3/envs/pyscenic/lib/python3.6/site-packages/dask/config.py:161: YAMLLoadWarning: calling yaml.load() without Loader=... is deprecated, as the default Loader is unsafe. Please read https://msg.pyyaml.org/load for full details.\n",
      "  data = yaml.load(f.read()) or {}\n"
     ]
    }
   ],
   "source": [
    "import os, glob, re, pickle\n",
    "from functools import partial\n",
    "from collections import OrderedDict\n",
    "import operator as op\n",
    "from cytoolz import compose\n",
    "\n",
    "import graphtools as gt\n",
    "import phate\n",
    "import scprep\n",
    "import sklearn\n",
    "import pandas as pd\n",
    "import seaborn as sns\n",
    "import numpy as np\n",
    "import scanpy as sc\n",
    "import anndata as ad\n",
    "import matplotlib as mpl\n",
    "import matplotlib.pyplot as plt\n",
    "import igraph"
   ]
  },
  {
   "cell_type": "code",
   "execution_count": 5,
   "metadata": {},
   "outputs": [
    {
     "name": "stdout",
     "output_type": "stream",
     "text": [
      "Place:  local indir:  /Users/mac/cloudstor/sarah_projects/SCMDA231mets_chrcha/project_results/meld/practice_all_data/ outdir:  /Users/mac/cloudstor/sarah_projects/SCMDA231mets_chrcha/project_results/scenic/practice_all_data/\n"
     ]
    }
   ],
   "source": [
    "np.random.seed(42)\n",
    "font = {'size'   : 14}\n",
    "mpl.rc('font', **font)\n",
    "\n",
    "if os.path.isdir('/Users/mac/cloudstor/') == True:\n",
    "    place = 'local'\n",
    "    indir = '/Users/mac/cloudstor/sarah_projects/SCMDA231mets_chrcha/project_results/meld/practice_all_data/'\n",
    "    outdir = '/Users/mac/cloudstor/sarah_projects/SCMDA231mets_chrcha/project_results/scenic/practice_all_data/'\n",
    "    dataset = 'practice'\n",
    "else:\n",
    "    place = 'wolfpack'\n",
    "    indir = '/share/ScratchGeneral/scoyou/sarah_projects/SCMDA231mets_chrcha/project_results/meld/all_data/'\n",
    "    outdir = '/share/ScratchGeneral/scoyou/sarah_projects/SCMDA231mets_chrcha/project_results/scenic/all_data/'\n",
    "    dataset = 'all'\n",
    "    sc.settings.njobs = 32\n",
    "\n",
    "print('Place: ', place,\n",
    "       'indir: ', indir,\n",
    "       'outdir: ', outdir)\n",
    "\n",
    "sc.settings.autosave = True\n",
    "sc.settings.figdir = outdir"
   ]
  },
  {
   "cell_type": "code",
   "execution_count": 6,
   "metadata": {},
   "outputs": [],
   "source": [
    "sdata = ad.read_h5ad(os.path.join(indir, 'Prefiltered_experiment_' + str(dataset) + '_raw_and_normalised_UMI_AnnData.h5ad'))"
   ]
  },
  {
   "cell_type": "code",
   "execution_count": 10,
   "metadata": {},
   "outputs": [],
   "source": [
    "def repeat_to_length(string_to_expand, length):\n",
    "    return (string_to_expand * (int(length/len(string_to_expand))+1))[:length]"
   ]
  },
  {
   "cell_type": "code",
   "execution_count": 14,
   "metadata": {},
   "outputs": [],
   "source": [
    "sdata.obs['partition'] = repeat_to_length(range(20), len(sdata.obs.index))"
   ]
  },
  {
   "cell_type": "code",
   "execution_count": 17,
   "metadata": {},
   "outputs": [
    {
     "name": "stdout",
     "output_type": "stream",
     "text": [
      "View of AnnData object with n_obs × n_vars = 1764 × 12483\n",
      "    obs: 'Sample', 'Barcode', 'old_Sample', 'Tissue', 'Replicate', 'cellIDs', 'Human_percent', 'Human_cells', 'Lib_size', 'Genes_detected', 'Mito_percent', 'Practice_subset', 'Mito_percent_discard', 'Genes_detected_discard', 'Libsize_discard', 'discard', 'partition'\n",
      "    var: 'ID', 'Symbol', 'Type', 'GeneSymbol', 'Organism', 'Ensembl', 'Liver_active', 'LN_active', 'Lung_active', 'Primary_active', 'Any_Active'\n",
      "View of AnnData object with n_obs × n_vars = 1764 × 12483\n",
      "    obs: 'Sample', 'Barcode', 'old_Sample', 'Tissue', 'Replicate', 'cellIDs', 'Human_percent', 'Human_cells', 'Lib_size', 'Genes_detected', 'Mito_percent', 'Practice_subset', 'Mito_percent_discard', 'Genes_detected_discard', 'Libsize_discard', 'discard', 'partition'\n",
      "    var: 'ID', 'Symbol', 'Type', 'GeneSymbol', 'Organism', 'Ensembl', 'Liver_active', 'LN_active', 'Lung_active', 'Primary_active', 'Any_Active'\n",
      "View of AnnData object with n_obs × n_vars = 1764 × 12483\n",
      "    obs: 'Sample', 'Barcode', 'old_Sample', 'Tissue', 'Replicate', 'cellIDs', 'Human_percent', 'Human_cells', 'Lib_size', 'Genes_detected', 'Mito_percent', 'Practice_subset', 'Mito_percent_discard', 'Genes_detected_discard', 'Libsize_discard', 'discard', 'partition'\n",
      "    var: 'ID', 'Symbol', 'Type', 'GeneSymbol', 'Organism', 'Ensembl', 'Liver_active', 'LN_active', 'Lung_active', 'Primary_active', 'Any_Active'\n",
      "View of AnnData object with n_obs × n_vars = 1763 × 12483\n",
      "    obs: 'Sample', 'Barcode', 'old_Sample', 'Tissue', 'Replicate', 'cellIDs', 'Human_percent', 'Human_cells', 'Lib_size', 'Genes_detected', 'Mito_percent', 'Practice_subset', 'Mito_percent_discard', 'Genes_detected_discard', 'Libsize_discard', 'discard', 'partition'\n",
      "    var: 'ID', 'Symbol', 'Type', 'GeneSymbol', 'Organism', 'Ensembl', 'Liver_active', 'LN_active', 'Lung_active', 'Primary_active', 'Any_Active'\n"
     ]
    }
   ],
   "source": [
    "for part in sdata.obs['partition'].unique():\n",
    "    tmpdata = sdata[sdata.obs.partition == part, :]\n",
    "    tmpdata.to_df().to_csv(os.path.join(outdir, 'results/SCmets' + str(part) + '.qc.umi.csv'))\n"
   ]
  },
  {
   "cell_type": "code",
   "execution_count": null,
   "metadata": {},
   "outputs": [],
   "source": []
  }
 ],
 "metadata": {
  "kernelspec": {
   "display_name": "Python 3",
   "language": "python",
   "name": "python3"
  },
  "language_info": {
   "codemirror_mode": {
    "name": "ipython",
    "version": 3
   },
   "file_extension": ".py",
   "mimetype": "text/x-python",
   "name": "python",
   "nbconvert_exporter": "python",
   "pygments_lexer": "ipython3",
   "version": "3.6.1"
  }
 },
 "nbformat": 4,
 "nbformat_minor": 4
}
